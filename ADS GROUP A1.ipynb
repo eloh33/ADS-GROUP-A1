{
 "cells": [
  {
   "cell_type": "code",
   "execution_count": 3,
   "id": "82daa9cc",
   "metadata": {},
   "outputs": [
    {
     "name": "stdout",
     "output_type": "stream",
     "text": [
      "<class 'pandas.core.frame.DataFrame'>\n",
      "RangeIndex: 57475 entries, 0 to 57474\n",
      "Data columns (total 19 columns):\n",
      " #   Column               Non-Null Count  Dtype  \n",
      "---  ------               --------------  -----  \n",
      " 0   place                57475 non-null  object \n",
      " 1   city                 57475 non-null  object \n",
      " 2   state                57475 non-null  object \n",
      " 3   temperature          47363 non-null  float64\n",
      " 4   pressure             49285 non-null  float64\n",
      " 5   dew_point            46965 non-null  float64\n",
      " 6   humidity             47370 non-null  float64\n",
      " 7   wind_speed           48833 non-null  float64\n",
      " 8   gust                 44191 non-null  float64\n",
      " 9   wind_chill           47325 non-null  float64\n",
      " 10  uv_index             39177 non-null  float64\n",
      " 11  precipitation_rate   46574 non-null  float64\n",
      " 12  precipitation_total  46574 non-null  float64\n",
      " 13  year                 57475 non-null  int64  \n",
      " 14  month                57475 non-null  object \n",
      " 15  day                  57475 non-null  int64  \n",
      " 16  hour                 57475 non-null  int64  \n",
      " 17  minutes              57475 non-null  int64  \n",
      " 18  seconds              57475 non-null  int64  \n",
      "dtypes: float64(10), int64(5), object(4)\n",
      "memory usage: 8.3+ MB\n"
     ]
    }
   ],
   "source": [
    "import numpy as np\n",
    "import matplotlib.pyplot as plt\n",
    "import pandas as pd\n",
    "import seaborn as sns\n",
    "\n",
    "df = pd.read_csv('malaysia_weather_data.csv')\n",
    "df.info()"
   ]
  },
  {
   "cell_type": "code",
   "execution_count": null,
   "id": "a72e25c3",
   "metadata": {},
   "outputs": [],
   "source": []
  }
 ],
 "metadata": {
  "kernelspec": {
   "display_name": "Python 3 (ipykernel)",
   "language": "python",
   "name": "python3"
  },
  "language_info": {
   "codemirror_mode": {
    "name": "ipython",
    "version": 3
   },
   "file_extension": ".py",
   "mimetype": "text/x-python",
   "name": "python",
   "nbconvert_exporter": "python",
   "pygments_lexer": "ipython3",
   "version": "3.11.5"
  }
 },
 "nbformat": 4,
 "nbformat_minor": 5
}
